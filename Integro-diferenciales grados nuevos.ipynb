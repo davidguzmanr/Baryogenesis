{
 "cells": [
  {
   "cell_type": "code",
   "execution_count": 2,
   "metadata": {
    "scrolled": true
   },
   "outputs": [
    {
     "data": {
      "text/plain": [
       "Plots.GRBackend()"
      ]
     },
     "execution_count": 2,
     "metadata": {},
     "output_type": "execute_result"
    }
   ],
   "source": [
    "using Plots, DelimitedFiles, CSV\n",
    "gr(fmt = \"png\")\n",
    "#pyplot()"
   ]
  },
  {
   "cell_type": "code",
   "execution_count": 3,
   "metadata": {},
   "outputs": [],
   "source": [
    "# Constantes\n",
    "\n",
    "T_c = 160 # Mev\n",
    "R_c = 1\n",
    "g_q = 39 + 14.25 # según Knapp\n",
    "g_h = 3 + 14.25  # según Knapp\n",
    "\n",
    "\n",
    "σ = 50*(197^2) # MeV^3\n",
    "#σ = 50 \n",
    "\n",
    "ξ_q = 0.7/197 # Mev\n",
    "#ξ_q = 0.7 \n",
    "\n",
    "ζ_q = 0\n",
    "\n",
    "G = (6.70*(10^-45))\n",
    "#G = 3.7835*10^(-123)\n",
    "\n",
    "#B = g_q*(π^2/90)*T_c^4 # bag constant\n",
    "B = g_q*(π^2/90)*(1 - g_h/g_q)*(T_c^4);"
   ]
  },
  {
   "cell_type": "code",
   "execution_count": 4,
   "metadata": {},
   "outputs": [],
   "source": [
    "# Presiones según Kapusta\n",
    "\n",
    "Pq(T) = g_q*(π^2/90)*T^4 - B\n",
    "Ph(T) = g_h*(π^2/90)*T^4\n",
    "\n",
    "P(h, T) = h*Ph(T) + (1-h)*Pq(T)\n",
    "\n",
    "ΔP(T) = Ph(T) - Pq(T)\n",
    "\n",
    "# Energías según Csernai pero con coeficientes del Kapusta\n",
    "\n",
    "ϵ_q(T) = g_q*(π^2/30)*T^4 + B\n",
    "ϵ_h(T) = g_h*(π^2/30)*T^4  \n",
    "\n",
    "ϵ(h, T) = h*ϵ_h(T) + (1-h)*ϵ_q(T)\n",
    "\n",
    "# Entalpías\n",
    "\n",
    "w_q(T) = g_q*(π^2/90)*T^4 +  g_q*(π^2/30)*T^4\n",
    "w_h(T) = g_h*(π^2/90)*T^4 +  g_h*(π^2/30)*T^4\n",
    "\n",
    "w(h, T) = h*w_h(T) + (1-h)*w_q(T)\n",
    "\n",
    "Δw(T) = w_h(T) - w_q(T)\n",
    "\n",
    "# Velocidad de las burbujas\n",
    "\n",
    "v(T) = 3*(1-T/T_c)^(3/2)\n",
    "\n",
    "# Las demás\n",
    "\n",
    "η_q(T) = 14.4*T^3\n",
    "\n",
    "r₀(T) = (2*σ)/(Ph(T) - Pq(T)) # r_{*} en los papers\n",
    "\n",
    "ΔF₀(T) = (4/3)*π*σ*(r₀(T))^2 # ΔF_{*} en los papers\n",
    "\n",
    "I₀(T) = ((16/3π)*(σ/(3*T))^(3/2))*((σ*η_q(T)*r₀(T))/(ξ_q^4*(Δw(T))^2))\n",
    "\n",
    "I(T) = (4/π)*((σ/(3*T))^(3/2))*((σ*r₀(T)*(3*ζ_q + 4*η_q(T)))/(3*ξ_q^4*(Δw(T))^2))*exp(-ΔF₀(T)/T)\n",
    "\n",
    "# Cambio de variable\n",
    "\n",
    "dt_dR(R, h, T) = (1/R)*((3/(8*π*G*((h*ϵ_h(T))+((1-h)*ϵ_q(T)))))^(1/2));"
   ]
  },
  {
   "cell_type": "code",
   "execution_count": 5,
   "metadata": {},
   "outputs": [
    {
     "data": {
      "text/plain": [
       "N_density (generic function with 1 method)"
      ]
     },
     "execution_count": 5,
     "metadata": {},
     "output_type": "execute_result"
    }
   ],
   "source": [
    "function N_density(Rs, hs, Ts, Is, factor)\n",
    "    \n",
    "    \"\"\"\n",
    "    Average bubble density, ecuación 16.56 del Kapusta.\n",
    "    \"\"\"\n",
    "    \n",
    "    Ns = []\n",
    "    \n",
    "    n = length(Rs)\n",
    "     \n",
    "    dR = Rs[2]-Rs[1]\n",
    "    \n",
    "    integral = 0\n",
    "    \n",
    "    for i in 1:n\n",
    "        integral = integral + factor*(dR*dt_dR(Rs[i], hs[i], Ts[i])*Is[i]*(1-hs[i]))  \n",
    "        push!(Ns, integral)\n",
    "    end\n",
    "     \n",
    "    return Ns\n",
    "end"
   ]
  },
  {
   "cell_type": "markdown",
   "metadata": {},
   "source": [
    "Las ecuaciones a resolver son \n",
    "\n",
    "$$ h(R) = \\int_{R_{c}}^{R} ds \\frac{dt(s)}{dR} \\ I(T(s))(1-h(s))V(t,s) $$\n",
    "$$ \\dfrac{d\\epsilon}{dR} = -\\dfrac{3 w(R)}{R} $$\n",
    "\n",
    "Donde \n",
    "\n",
    "$$\\epsilon(R) = h(R)\\epsilon_{h}(T(R)) + (1-h(R))\\epsilon_{q}(T(R)) = h(R)\\left(g_{h}\\dfrac{\\pi^{2}}{90}T^4(R) \\right) + (1-h(R))\\left( g_{q}\\dfrac{\\pi^{2}}{90}T^4(R) + B \\right)$$\n",
    "\n",
    "$$w(R) = h(R)w_{h}(T(R)) + (1-h(R))w_{q}(T(R)) = h(R)\\left(g_{h}\\dfrac{2\\pi^{2}}{45}T^4(R) \\right) + (1-h(R))\\left( g_{q}\\dfrac{2\\pi^{2}}{45}T^4(R)\\right)$$\n",
    "\n",
    "$$ \\dfrac{dt}{dR} = \\dfrac{1}{R} \\sqrt{\\dfrac{3}{8\\pi G \\epsilon(R)}} $$"
   ]
  },
  {
   "cell_type": "markdown",
   "metadata": {},
   "source": [
    "Entonces\n",
    "\n",
    "\\begin{align*} \n",
    "\\dfrac{d\\epsilon}{dR} &= \\dfrac{dh}{dR}\\left(g_{h}\\dfrac{\\pi^{2}}{30}T^4(R) \\right) + h(R)\\left(g_{h}\\dfrac{4\\pi^{2}}{30}T^3(R) \\dfrac{dT}{dR} \\right) - \\dfrac{dh}{dR}\\left(g_{q}\\dfrac{\\pi^{2}}{30}T^4(R)  + B \\right) + (1-h(R))\\left( g_{q}\\dfrac{4\\pi^{2}}{30}T^3(R)\\dfrac{dT}{dR}\\right)\\\\\n",
    "&= -\\dfrac{3}{R} \\left( h(R)\\left(g_{h}\\dfrac{2\\pi^{2}}{45}T^4(R) \\right) + (1-h(R))\\left( g_{q}\\dfrac{2\\pi^{2}}{45}T^4(R)\\right) \\right)\n",
    "\\end{align*}\n",
    "\n",
    "Haciendo cuentitas nos queda finalmente que\n",
    "\n",
    "\\begin{align}\n",
    "h(R) = \\int_{R_{c}}^{R} ds \\frac{dt(s)}{dR} \\ I(T(s))(1-h(s))V(t,s)\n",
    "\\end{align}\n",
    "\n",
    "\\begin{align}\n",
    "\\dfrac{dT}{dR} &= - \\dfrac{\\dfrac{dh}{dR}\\left( \\dfrac{g_{h}\\pi^2}{30}T^{4}(R) - \\dfrac{g_{q}\\pi^2}{30}T^{4}(R) - B \\right) + \\dfrac{3}{R}\\left[\\dfrac{2g_{h}\\pi^{2}}{45}h(R)T^{4}(R)  + (1-h(R))\\left( \\dfrac{2g_{q}\\pi^{2}}{45}T^{4}(R) \\right) \\right]}{\\dfrac{4g_{h}\\pi^{2}}{30}h(R)T^{3}(R) + (1-h(R))\\dfrac{4g_{q}\\pi^{2}}{30}T^{3}(R)}\n",
    "\\end{align}"
   ]
  },
  {
   "cell_type": "markdown",
   "metadata": {},
   "source": [
    "Las integrales las podemos aproximar con una suma inferior (tomando el extremo izquierdo, el error va como $1/N$)\n",
    "\n",
    "\\begin{align}\n",
    "h(R_{k}) &= \\int_{R_{c}}^{R} ds \\frac{dt(s)}{dR} \\ I(T(s))(1-h(s))V(t,s)  \\\\\n",
    "&\\approx \\sum_{i=0}^{n-1} I(T_{i})(1-h_{i})V(R_{k},R_{i})dR \\quad \n",
    "\\end{align}\n",
    "\n",
    "donde $ a_{k} = a_c + k \\cdot da, \\ T_{i} = T(t_{i}), \\ h_{i} = h(t_{i})$ y \n",
    "\n",
    "\\begin{align}\n",
    "V(t_{i},t_{k}) &= \\dfrac{4\\pi}{3} \\left( r_{*}(T_{i}) + 3\\int_{t_{i}}^{t_{k}}ds \\frac{1}{s} \\sqrt{\\frac{3}{8\\pi G \\epsilon(s)}}  \\ \\left( 1-\\dfrac{T(s)}{T_{c}} \\right)^{3/2} \\right)^{3} \\\\\n",
    "&\\approx \\dfrac{4\\pi}{3} \\left( r_{*}(T_{i}) + 3\\sum_{j=i}^{m-1}dR \\ \\frac{1}{R_{j}} \\sqrt{\\frac{3}{8\\pi G \\epsilon(T_{j})}} \\left( 1-\\dfrac{T_{j}}{T_{c}} \\right)^{3/2} \\right)^{3} \\quad t_{m} = t_{k}\n",
    "\\end{align}\n",
    "\n",
    "Esas partes quedan en términos de los pasos anteriores, de modo que queda sencillo. Para la parte de la derivada notemos que \n",
    "\n",
    "$$ \\dfrac{dh(R)}{dR} = \\int_{R_{c}}^{R} ds \\ I(T(s))(1-h(s))\\dfrac{\\partial V(s,R)}{\\partial R} + I(T(R))(1-h(R))V(R,R)$$\n",
    "\n",
    "Sin embargo no nos sirve mucho pues quedará un método implícito (se puede hacer implícito pero preferiría evitarlo), hagámos la siguiente aproximación medio chafa tomando una diferencia para atrás y veámos qué sale\n",
    "\n",
    "$$ \\dfrac{dh(R)}{dR}\\Bigg|_{R=R_{i}} \\approx \\dfrac{h(R_{i}) - h(R_{i-1})}{dR} \\approx \\dfrac{h(R_{i-1}) - h(R_{i-2})}{dR}$$"
   ]
  },
  {
   "cell_type": "code",
   "execution_count": 6,
   "metadata": {},
   "outputs": [
    {
     "data": {
      "text/plain": [
       "V (generic function with 1 method)"
      ]
     },
     "execution_count": 6,
     "metadata": {},
     "output_type": "execute_result"
    }
   ],
   "source": [
    "function V(i::Number, k::Number, dR::Number, Rs::Array, hs::Array, Ts::Array)  \n",
    "    \"\"\"\n",
    "    Esta función es para calcular el volumen, ecuación 16.55 del Kapusta.\n",
    "    \"\"\"\n",
    "    \n",
    "    integral = 0\n",
    "       \n",
    "    for j in i:k-1\n",
    "        integral = integral + 3*dR*((1-Ts[j]/T_c)^(3/2))*dt_dR(Rs[j], hs[j], Ts[j])\n",
    "    end\n",
    "    \n",
    "    return 4/3*π*(r₀(Ts[i]) + integral)^3    \n",
    "    \n",
    "end"
   ]
  },
  {
   "cell_type": "code",
   "execution_count": 7,
   "metadata": {},
   "outputs": [
    {
     "data": {
      "text/plain": [
       "riemann_h (generic function with 1 method)"
      ]
     },
     "execution_count": 7,
     "metadata": {},
     "output_type": "execute_result"
    }
   ],
   "source": [
    "function riemann_h(k::Number, dR::Number, Rs::Array, hs::Array, Ts::Array)\n",
    "    \n",
    "    \"\"\"\n",
    "    Esta función es para calcular la integral 16.50 del Kapusta.\n",
    "    \"\"\"\n",
    "    \n",
    "    integral_h = 0\n",
    "    integral_V = 0\n",
    "    \n",
    "    for i in 1:k-1\n",
    "         \n",
    "        # Este if hace todo el truco para bajar la complejidad\n",
    "        if i == 1\n",
    "            integral = 0\n",
    "            \n",
    "            for j in i:k-1\n",
    "                integral = integral + 3*dR*((1-Ts[j]/T_c)^(3/2))*dt_dR(Rs[j], hs[j], Ts[j])\n",
    "            end \n",
    "            \n",
    "            V = 4/3*π*(r₀(Ts[i]) + integral)^3 \n",
    "            \n",
    "            integral_h = integral_h + dR*I(Ts[i])*(1-hs[i])*V*dt_dR(Rs[i], hs[i], Ts[i])\n",
    "            integral_V = integral\n",
    "        \n",
    "        else\n",
    "            \n",
    "            integral_V = integral_V - dR*3*((1-Ts[i]/T_c)^(3/2))*dt_dR(Rs[i], hs[i], Ts[i])\n",
    "            V = 4/3*π*(r₀(Ts[i]) + integral_V)^3 \n",
    "            \n",
    "            integral_h = integral_h + dR*I(Ts[i])*(1-hs[i])*V*dt_dR(Rs[i], hs[i], Ts[i])\n",
    "        end\n",
    "        \n",
    "    end\n",
    "    \n",
    "    return integral_h\n",
    "    \n",
    "end"
   ]
  },
  {
   "cell_type": "code",
   "execution_count": 8,
   "metadata": {},
   "outputs": [
    {
     "data": {
      "text/plain": [
       "integro_diferencial (generic function with 1 method)"
      ]
     },
     "execution_count": 8,
     "metadata": {},
     "output_type": "execute_result"
    }
   ],
   "source": [
    "function integro_diferencial(R_f::Number, dR::Number)\n",
    "    \n",
    "    Rs = []\n",
    "    hs = []\n",
    "    Ts = []\n",
    "    \n",
    "    R = R_c\n",
    "    h = 0.0\n",
    "    T = T_c\n",
    "    \n",
    "    push!(Rs, R) \n",
    "    push!(hs, h)\n",
    "    push!(Ts, T)   \n",
    "    \n",
    "    i = 2 # Primer paso\n",
    "    \n",
    "    t1 = time()\n",
    "    \n",
    "    while R <= R_f\n",
    "        \n",
    "        if i == 2\n",
    "            dh_dR = 0\n",
    "        else \n",
    "            dh_dR = (hs[i-1]-hs[i-2])/dR \n",
    "        end\n",
    "        \n",
    "        fT(R, h, T) = -(dh_dR*( (g_h*π^2/30)*T^4 - (g_q*π^2/30)*T^4 - B) + (3/R)*( (2*g_h*π^2/45)*h*T^4 + (1-h)*((2*g_q*π^2/45)*T^4)) )/((4*g_h*π^2/30)*h*T^3 + (1-h)*(4*g_q*π^2/30)*T^3)\n",
    "                       \n",
    "        T = T + dR*fT(R,h,T)\n",
    "        R = R + dR\n",
    "        h = riemann_h(i, dR, Rs, hs, Ts)\n",
    "        \n",
    "        if h > 1\n",
    "           println(\"R_final =$(R)\")\n",
    "           break\n",
    "        end\n",
    "        \n",
    "        push!(Rs, R)\n",
    "        push!(hs, h)\n",
    "        push!(Ts, T)\n",
    "        \n",
    "        i = i+1\n",
    "        \n",
    "        if i % 10000 == 0\n",
    "            writedlm(\"resultados.txt\", [Rs hs Ts])\n",
    "        end\n",
    "        \n",
    "        if i % 5000 == 0\n",
    "            t2 = time()\n",
    "            hours = (t2-t1)/3600\n",
    "            println(\"i=$(i), R=$(R), h=$(h)\")\n",
    "            println(\"Van $(hours) horas \\n\")\n",
    "        end\n",
    "                       \n",
    "    end\n",
    "        \n",
    "    return Rs, hs, Ts    \n",
    "    \n",
    "end  "
   ]
  },
  {
   "cell_type": "code",
   "execution_count": 9,
   "metadata": {},
   "outputs": [],
   "source": [
    "# R_f = 1.5\n",
    "# dR = 0.00001*0.2\n",
    "\n",
    "# @time results = integro_diferencial(R_f, dR)\n",
    "\n",
    "# Rs, hs, Ts = results;"
   ]
  },
  {
   "cell_type": "code",
   "execution_count": 10,
   "metadata": {},
   "outputs": [
    {
     "data": {
      "text/html": [
       "<table class=\"data-frame\"><thead><tr><th></th><th>R</th><th>h</th><th>T</th></tr><tr><th></th><th>Float64⍰</th><th>Float64⍰</th><th>Float64⍰</th></tr></thead><tbody><p>228,098 rows × 3 columns</p><tr><th>1</th><td>1.0</td><td>0.0</td><td>160.0</td></tr><tr><th>2</th><td>1.0</td><td>0.0</td><td>160.0</td></tr><tr><th>3</th><td>1.0</td><td>0.0</td><td>159.999</td></tr><tr><th>4</th><td>1.00001</td><td>0.0</td><td>159.999</td></tr><tr><th>5</th><td>1.00001</td><td>0.0</td><td>159.999</td></tr><tr><th>6</th><td>1.00001</td><td>0.0</td><td>159.998</td></tr><tr><th>7</th><td>1.00001</td><td>0.0</td><td>159.998</td></tr><tr><th>8</th><td>1.00001</td><td>0.0</td><td>159.998</td></tr><tr><th>9</th><td>1.00002</td><td>0.0</td><td>159.997</td></tr><tr><th>10</th><td>1.00002</td><td>0.0</td><td>159.997</td></tr><tr><th>11</th><td>1.00002</td><td>0.0</td><td>159.997</td></tr><tr><th>12</th><td>1.00002</td><td>0.0</td><td>159.996</td></tr><tr><th>13</th><td>1.00002</td><td>0.0</td><td>159.996</td></tr><tr><th>14</th><td>1.00003</td><td>0.0</td><td>159.996</td></tr><tr><th>15</th><td>1.00003</td><td>0.0</td><td>159.996</td></tr><tr><th>16</th><td>1.00003</td><td>0.0</td><td>159.995</td></tr><tr><th>17</th><td>1.00003</td><td>0.0</td><td>159.995</td></tr><tr><th>18</th><td>1.00003</td><td>0.0</td><td>159.995</td></tr><tr><th>19</th><td>1.00004</td><td>0.0</td><td>159.994</td></tr><tr><th>20</th><td>1.00004</td><td>0.0</td><td>159.994</td></tr><tr><th>21</th><td>1.00004</td><td>0.0</td><td>159.994</td></tr><tr><th>22</th><td>1.00004</td><td>0.0</td><td>159.993</td></tr><tr><th>23</th><td>1.00004</td><td>0.0</td><td>159.993</td></tr><tr><th>24</th><td>1.00005</td><td>0.0</td><td>159.993</td></tr><tr><th>25</th><td>1.00005</td><td>0.0</td><td>159.992</td></tr><tr><th>26</th><td>1.00005</td><td>0.0</td><td>159.992</td></tr><tr><th>27</th><td>1.00005</td><td>0.0</td><td>159.992</td></tr><tr><th>28</th><td>1.00005</td><td>0.0</td><td>159.991</td></tr><tr><th>29</th><td>1.00006</td><td>0.0</td><td>159.991</td></tr><tr><th>30</th><td>1.00006</td><td>0.0</td><td>159.991</td></tr><tr><th>&vellip;</th><td>&vellip;</td><td>&vellip;</td><td>&vellip;</td></tr></tbody></table>"
      ],
      "text/latex": [
       "\\begin{tabular}{r|ccc}\n",
       "\t& R & h & T\\\\\n",
       "\t\\hline\n",
       "\t& Float64⍰ & Float64⍰ & Float64⍰\\\\\n",
       "\t\\hline\n",
       "\t1 & 1.0 & 0.0 & 160.0 \\\\\n",
       "\t2 & 1.0 & 0.0 & 160.0 \\\\\n",
       "\t3 & 1.0 & 0.0 & 159.999 \\\\\n",
       "\t4 & 1.00001 & 0.0 & 159.999 \\\\\n",
       "\t5 & 1.00001 & 0.0 & 159.999 \\\\\n",
       "\t6 & 1.00001 & 0.0 & 159.998 \\\\\n",
       "\t7 & 1.00001 & 0.0 & 159.998 \\\\\n",
       "\t8 & 1.00001 & 0.0 & 159.998 \\\\\n",
       "\t9 & 1.00002 & 0.0 & 159.997 \\\\\n",
       "\t10 & 1.00002 & 0.0 & 159.997 \\\\\n",
       "\t11 & 1.00002 & 0.0 & 159.997 \\\\\n",
       "\t12 & 1.00002 & 0.0 & 159.996 \\\\\n",
       "\t13 & 1.00002 & 0.0 & 159.996 \\\\\n",
       "\t14 & 1.00003 & 0.0 & 159.996 \\\\\n",
       "\t15 & 1.00003 & 0.0 & 159.996 \\\\\n",
       "\t16 & 1.00003 & 0.0 & 159.995 \\\\\n",
       "\t17 & 1.00003 & 0.0 & 159.995 \\\\\n",
       "\t18 & 1.00003 & 0.0 & 159.995 \\\\\n",
       "\t19 & 1.00004 & 0.0 & 159.994 \\\\\n",
       "\t20 & 1.00004 & 0.0 & 159.994 \\\\\n",
       "\t21 & 1.00004 & 0.0 & 159.994 \\\\\n",
       "\t22 & 1.00004 & 0.0 & 159.993 \\\\\n",
       "\t23 & 1.00004 & 0.0 & 159.993 \\\\\n",
       "\t24 & 1.00005 & 0.0 & 159.993 \\\\\n",
       "\t25 & 1.00005 & 0.0 & 159.992 \\\\\n",
       "\t26 & 1.00005 & 0.0 & 159.992 \\\\\n",
       "\t27 & 1.00005 & 0.0 & 159.992 \\\\\n",
       "\t28 & 1.00005 & 0.0 & 159.991 \\\\\n",
       "\t29 & 1.00006 & 0.0 & 159.991 \\\\\n",
       "\t30 & 1.00006 & 0.0 & 159.991 \\\\\n",
       "\t$\\dots$ & $\\dots$ & $\\dots$ & $\\dots$ \\\\\n",
       "\\end{tabular}\n"
      ],
      "text/plain": [
       "228098×3 DataFrames.DataFrame\n",
       "│ Row    │ R        │ h        │ T        │\n",
       "│        │ \u001b[90mFloat64⍰\u001b[39m │ \u001b[90mFloat64⍰\u001b[39m │ \u001b[90mFloat64⍰\u001b[39m │\n",
       "├────────┼──────────┼──────────┼──────────┤\n",
       "│ 1      │ 1.0      │ 0.0      │ 160.0    │\n",
       "│ 2      │ 1.0      │ 0.0      │ 160.0    │\n",
       "│ 3      │ 1.0      │ 0.0      │ 159.999  │\n",
       "│ 4      │ 1.00001  │ 0.0      │ 159.999  │\n",
       "│ 5      │ 1.00001  │ 0.0      │ 159.999  │\n",
       "│ 6      │ 1.00001  │ 0.0      │ 159.998  │\n",
       "│ 7      │ 1.00001  │ 0.0      │ 159.998  │\n",
       "│ 8      │ 1.00001  │ 0.0      │ 159.998  │\n",
       "│ 9      │ 1.00002  │ 0.0      │ 159.997  │\n",
       "│ 10     │ 1.00002  │ 0.0      │ 159.997  │\n",
       "⋮\n",
       "│ 228088 │ 1.45617  │ 0.99998  │ 159.995  │\n",
       "│ 228089 │ 1.45618  │ 0.999982 │ 159.995  │\n",
       "│ 228090 │ 1.45618  │ 0.999984 │ 159.995  │\n",
       "│ 228091 │ 1.45618  │ 0.999986 │ 159.995  │\n",
       "│ 228092 │ 1.45618  │ 0.999988 │ 159.995  │\n",
       "│ 228093 │ 1.45618  │ 0.99999  │ 159.995  │\n",
       "│ 228094 │ 1.45619  │ 0.999992 │ 159.995  │\n",
       "│ 228095 │ 1.45619  │ 0.999994 │ 159.995  │\n",
       "│ 228096 │ 1.45619  │ 0.999996 │ 159.995  │\n",
       "│ 228097 │ 1.45619  │ 0.999998 │ 159.995  │\n",
       "│ 228098 │ 1.45619  │ 1.0      │ 159.995  │"
      ]
     },
     "execution_count": 10,
     "metadata": {},
     "output_type": "execute_result"
    }
   ],
   "source": [
    "datos = CSV.read(\"resultados_nuevos_grados.csv\")"
   ]
  },
  {
   "cell_type": "code",
   "execution_count": 11,
   "metadata": {},
   "outputs": [],
   "source": [
    "Rs = datos.R\n",
    "hs = datos.h\n",
    "Ts = datos.T;"
   ]
  },
  {
   "cell_type": "markdown",
   "metadata": {},
   "source": [
    "### Aquí las gráficas de lo que está corriendo"
   ]
  },
  {
   "cell_type": "code",
   "execution_count": null,
   "metadata": {},
   "outputs": [],
   "source": [
    "Ts′ = [T/T_c for T in Ts]\n",
    "\n",
    "plot(Rs, Ts′, label = \"\", xlabel = \"R\", ylabel = \"T/Tc\", color = \"orangered\")  \n",
    "#scatter!(Rs, Ts′, color = \"orangered\", label = \"\")"
   ]
  },
  {
   "cell_type": "code",
   "execution_count": null,
   "metadata": {},
   "outputs": [],
   "source": [
    "plot(Rs, hs, label = \"\", xlabel = \"R\", ylabel = \"h (Hadron fraction)\", color = \"orangered\") # Con Euler \n",
    "#scatter!(Rs, hs, color = \"orangered\", label = \"\")"
   ]
  },
  {
   "cell_type": "code",
   "execution_count": null,
   "metadata": {},
   "outputs": [],
   "source": [
    "factor = (1.96*10.0^32)\n",
    "\n",
    "Is = [factor*I(Ts[i]) for i = 1:length(Rs)] # ¿unidades?\n",
    "\n",
    "println(maximum(Is))\n",
    "\n",
    "plot(Rs, Is, label = \"\", xlabel = \"R\", ylabel = \"Nucleation rate *10^44 Mev*\", \n",
    "     xlims = (1.0067,1.008), color = \"orangered\")\n",
    "scatter!(Rs, Is, color = \"orangered\", label = \"\", markersize=2)"
   ]
  },
  {
   "cell_type": "code",
   "execution_count": null,
   "metadata": {
    "scrolled": true
   },
   "outputs": [],
   "source": [
    "factor = (1.31*10.0^29)\n",
    "\n",
    "Is′ = [I(Ts[i]) for i = 1:length(Rs)]\n",
    "\n",
    "Ns = N_density(Rs, hs, Ts, Is′, factor)\n",
    "\n",
    "println(maximum(Ns))\n",
    "\n",
    "plot(Rs, Ns, xlabel = \"R\", ylabel = \"N *10^48 Mev^3\", label = \"\", color = \"orangered\")\n",
    "scatter!(Rs, Ns, color = \"orangered\", label = \"\", markersize=2)"
   ]
  },
  {
   "cell_type": "code",
   "execution_count": null,
   "metadata": {},
   "outputs": [],
   "source": [
    "factor = 0.1\n",
    "\n",
    "rs = [factor*((hs[i]/(Ns[i]))*(3/(4*π)))^(1/3) for i in 1:length(Rs)]\n",
    "\n",
    "plot(Rs, rs, legend = false, xlabel = \"R\", ylabel = \"r (cm)\", color = \"orangered\")"
   ]
  },
  {
   "cell_type": "code",
   "execution_count": null,
   "metadata": {},
   "outputs": [],
   "source": [
    "Phs = [Ph(T) for T in Ts]\n",
    "plot(Rs, Phs, legend = false, xlabel = \"R\", ylabel = \"Ph (Mev^4)\", color = \"orangered\", xlims = (1,1.01))"
   ]
  },
  {
   "cell_type": "code",
   "execution_count": null,
   "metadata": {},
   "outputs": [],
   "source": [
    "Pqs = [Pq(T) for T in Ts]\n",
    "plot(Rs, Pqs, legend = false, xlabel = \"R\", ylabel = \"Pq (Mev^4)\", color = \"orangered\", xlim = (1,1.01))"
   ]
  },
  {
   "cell_type": "code",
   "execution_count": null,
   "metadata": {},
   "outputs": [],
   "source": [
    "whs = [w_h(T) for T in Ts]\n",
    "plot(Rs, whs, legend = false, xlabel = \"R\", ylabel = \"wh (Mev^4)\", color = \"orangered\")"
   ]
  },
  {
   "cell_type": "code",
   "execution_count": null,
   "metadata": {},
   "outputs": [],
   "source": [
    "wqs = [w_q(T) for T in Ts]\n",
    "plot(Rs, wqs, legend = false, xlabel = \"R\", ylabel = \"wq (Mev^4)\", color = \"orangered\")"
   ]
  },
  {
   "cell_type": "code",
   "execution_count": null,
   "metadata": {},
   "outputs": [],
   "source": [
    "ws = [w(hs[i], Ts[i]) for i in 1:length(Ts)]\n",
    "plot(Rs, ws, legend = false, xlabel = \"R\", ylabel = \"w (Mev^4)\", color = \"orangered\")"
   ]
  },
  {
   "cell_type": "code",
   "execution_count": null,
   "metadata": {},
   "outputs": [],
   "source": [
    "ϵhs = [ϵ_h(T) for T in Ts]\n",
    "plot(Rs, ϵhs, legend = false, xlabel = \"R\", ylabel = \"ϵh (Mev^4)\", color = \"orangered\")"
   ]
  },
  {
   "cell_type": "code",
   "execution_count": null,
   "metadata": {},
   "outputs": [],
   "source": [
    "ϵqs = [ϵ_q(T) for T in Ts]\n",
    "plot(Rs, ϵqs, legend = false, xlabel = \"R\", ylabel = \"ϵq (Mev^4)\", color = \"orangered\")"
   ]
  },
  {
   "cell_type": "code",
   "execution_count": null,
   "metadata": {},
   "outputs": [],
   "source": [
    "ϵs = [ϵ(hs[i], Ts[i]) for i in 1:length(Ts)]\n",
    "plot(Rs, ϵs, legend = false, xlabel = \"R\", ylabel = \"ϵs (Mev^4)\", color = \"orangered\")"
   ]
  },
  {
   "cell_type": "code",
   "execution_count": null,
   "metadata": {},
   "outputs": [],
   "source": [
    "# Ésto es para escribir todo en un archivo para hacer las gráficas en Python para que se vean bonitas\n",
    "# writedlm(\"resultados_nuevos_grados.csv\", [Rs hs Ts Is Ns rs Phs Pqs whs wqs ws ϵhs ϵqs ϵs])"
   ]
  },
  {
   "cell_type": "markdown",
   "metadata": {},
   "source": [
    "### Pruebas de convergencia"
   ]
  },
  {
   "cell_type": "markdown",
   "metadata": {},
   "source": [
    "Todo parece converger, de modo que el método está bien."
   ]
  },
  {
   "cell_type": "code",
   "execution_count": null,
   "metadata": {},
   "outputs": [],
   "source": [
    "R_convergencia = []\n",
    "h_convergencia = []\n",
    "T_convergencia = []\n",
    "\n",
    "for i in 1:15\n",
    "    R_f = 1.01\n",
    "    dR = 0.00001*(1/i)\n",
    "\n",
    "    @time results = integro_diferencial(R_f, dR)\n",
    "\n",
    "    Rs, hs, Ts = results;\n",
    "    \n",
    "    push!(R_convergencia, Rs)\n",
    "    push!(h_convergencia, hs)\n",
    "    push!(T_convergencia, Ts)\n",
    "    \n",
    "end"
   ]
  },
  {
   "cell_type": "code",
   "execution_count": 51,
   "metadata": {},
   "outputs": [
    {
     "data": {
      "image/png": "[encoded data removed]"
     },
     "execution_count": 51,
     "metadata": {},
     "output_type": "execute_result"
    }
   ],
   "source": [
    "grafica = plot(xlabel=\"R\", ylabel=\"T (Mev)\")\n",
    "\n",
    "for i in 1:15\n",
    "    dR = 0.00001*(1/i)\n",
    "    grafica = plot!(R_convergencia[i], T_convergencia[i], label = string(dR), legend=:bottomleft)\n",
    "end\n",
    "\n",
    "grafica"
   ]
  },
  {
   "cell_type": "code",
   "execution_count": 52,
   "metadata": {},
   "outputs": [
    {
     "data": {
      "image/png": "[encoded data removed]"
     },
     "execution_count": 52,
     "metadata": {},
     "output_type": "execute_result"
    }
   ],
   "source": [
    "grafica = plot(xlabel=\"R\", ylabel=\"h\")\n",
    "\n",
    "for i in 1:15\n",
    "    dR = 0.00001*(1/i)\n",
    "    grafica = plot!(R_convergencia[i], h_convergencia[i], label = string(dR), legend=:bottomleft)\n",
    "end\n",
    "\n",
    "grafica"
   ]
  },
  {
   "cell_type": "code",
   "execution_count": 54,
   "metadata": {},
   "outputs": [
    {
     "data": {
      "image/png": "[encoded data removed]"
     },
     "execution_count": 54,
     "metadata": {},
     "output_type": "execute_result"
    }
   ],
   "source": [
    "grafica = plot(xlabel=\"R\", ylabel=\"I\")\n",
    "\n",
    "factor = (1.96*10.0^32)\n",
    "\n",
    "for i in 1:10\n",
    "    dR = 0.00001*(1/i)\n",
    "    Is = [I(T)*factor for T in T_convergencia[i]] # ¿unidades?\n",
    "    grafica = plot!(R_convergencia[i], Is, xlims = (1.0067,1.008), label = string(dR), legend=:bottomleft)\n",
    "end\n",
    "\n",
    "grafica"
   ]
  },
  {
   "cell_type": "code",
   "execution_count": 58,
   "metadata": {},
   "outputs": [
    {
     "data": {
      "image/png": "[encoded data removed]"
     },
     "execution_count": 58,
     "metadata": {},
     "output_type": "execute_result"
    }
   ],
   "source": [
    "grafica = plot(xlabel=\"R\", ylabel=\"n\")\n",
    "\n",
    "factor1 = (1.96*10.0^32)\n",
    "factor2 = (1.31*10.0^29)\n",
    "\n",
    "for i in 1:15\n",
    "    dR = 0.00001*(1/i)\n",
    "    \n",
    "    Is = [I(T)*factor1 for T in T_convergencia[i]] # ¿unidades?\n",
    "    Ns = N_density(R_convergencia[i], h_convergencia[i], T_convergencia[i], Is, factor2)\n",
    "    grafica = plot!(R_convergencia[i], Ns, label = string(dR), legend=:bottomleft)\n",
    "end\n",
    "\n",
    "grafica"
   ]
  },
  {
   "cell_type": "code",
   "execution_count": null,
   "metadata": {},
   "outputs": [],
   "source": []
  }
 ],
 "metadata": {
  "@webio": {
   "lastCommId": "cec05958ebba4017b9d12107a843260b",
   "lastKernelId": "51bdd066-ce1e-482b-a99f-8966fca3be04"
  },
  "kernelspec": {
   "display_name": "Julia 1.0.1",
   "language": "julia",
   "name": "julia-1.0"
  },
  "language_info": {
   "file_extension": ".jl",
   "mimetype": "application/julia",
   "name": "julia",
   "version": "1.0.1"
  }
 },
 "nbformat": 4,
 "nbformat_minor": 2
}
