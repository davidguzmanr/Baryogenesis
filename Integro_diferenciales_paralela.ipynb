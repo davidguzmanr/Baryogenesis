{
  "nbformat": 4,
  "nbformat_minor": 0,
  "metadata": {
    "colab": {
      "name": "Integro-diferenciales paralela.ipynb",
      "provenance": [],
      "collapsed_sections": [],
      "include_colab_link": true
    },
    "kernelspec": {
      "name": "python3",
      "display_name": "Python 3"
    },
    "accelerator": "GPU"
  },
  "cells": [
    {
      "cell_type": "markdown",
      "metadata": {
        "id": "view-in-github",
        "colab_type": "text"
      },
      "source": [
        "<a href=\"https://colab.research.google.com/github/davidguzmanr/Baryogenesis/blob/master/Integro_diferenciales_paralela.ipynb\" target=\"_parent\"><img src=\"https://colab.research.google.com/assets/colab-badge.svg\" alt=\"Open In Colab\"/></a>"
      ]
    },
    {
      "cell_type": "code",
      "metadata": {
        "id": "3IE7jnPuaR0Q",
        "colab_type": "code",
        "colab": {
          "base_uri": "https://localhost:8080/",
          "height": 89
        },
        "outputId": "39ca6f20-3b6a-4692-bcf1-a3e19331794c"
      },
      "source": [
        "!nvcc --version"
      ],
      "execution_count": 2,
      "outputs": [
        {
          "output_type": "stream",
          "text": [
            "nvcc: NVIDIA (R) Cuda compiler driver\n",
            "Copyright (c) 2005-2018 NVIDIA Corporation\n",
            "Built on Sat_Aug_25_21:08:01_CDT_2018\n",
            "Cuda compilation tools, release 10.0, V10.0.130\n"
          ],
          "name": "stdout"
        }
      ]
    },
    {
      "cell_type": "code",
      "metadata": {
        "id": "d_d6llVZa9je",
        "colab_type": "code",
        "colab": {
          "base_uri": "https://localhost:8080/",
          "height": 775
        },
        "outputId": "47db9a64-27d9-4ec5-ff85-d77f9738f130"
      },
      "source": [
        "!pip install pycuda\n",
        "!pip install scikit-cuda"
      ],
      "execution_count": 3,
      "outputs": [
        {
          "output_type": "stream",
          "text": [
            "Collecting pycuda\n",
            "\u001b[?25l  Downloading https://files.pythonhosted.org/packages/5e/3f/5658c38579b41866ba21ee1b5020b8225cec86fe717e4b1c5c972de0a33c/pycuda-2019.1.2.tar.gz (1.6MB)\n",
            "\u001b[K     |████████████████████████████████| 1.6MB 24.2MB/s \n",
            "\u001b[?25hCollecting pytools>=2011.2\n",
            "\u001b[?25l  Downloading https://files.pythonhosted.org/packages/00/96/00416762a3eda8876a17d007df4a946f46b2e4ee1057e0b9714926472ef8/pytools-2019.1.1.tar.gz (58kB)\n",
            "\u001b[K     |████████████████████████████████| 61kB 9.3MB/s \n",
            "\u001b[?25hRequirement already satisfied: decorator>=3.2.0 in /usr/local/lib/python3.6/dist-packages (from pycuda) (4.4.1)\n",
            "Collecting appdirs>=1.4.0\n",
            "  Downloading https://files.pythonhosted.org/packages/56/eb/810e700ed1349edde4cbdc1b2a21e28cdf115f9faf263f6bbf8447c1abf3/appdirs-1.4.3-py2.py3-none-any.whl\n",
            "Collecting mako\n",
            "\u001b[?25l  Downloading https://files.pythonhosted.org/packages/b0/3c/8dcd6883d009f7cae0f3157fb53e9afb05a0d3d33b3db1268ec2e6f4a56b/Mako-1.1.0.tar.gz (463kB)\n",
            "\u001b[K     |████████████████████████████████| 471kB 63.4MB/s \n",
            "\u001b[?25hRequirement already satisfied: six>=1.8.0 in /usr/local/lib/python3.6/dist-packages (from pytools>=2011.2->pycuda) (1.12.0)\n",
            "Requirement already satisfied: numpy>=1.6.0 in /usr/local/lib/python3.6/dist-packages (from pytools>=2011.2->pycuda) (1.17.4)\n",
            "Requirement already satisfied: MarkupSafe>=0.9.2 in /usr/local/lib/python3.6/dist-packages (from mako->pycuda) (1.1.1)\n",
            "Building wheels for collected packages: pycuda, pytools, mako\n",
            "  Building wheel for pycuda (setup.py) ... \u001b[?25l\u001b[?25hdone\n",
            "  Created wheel for pycuda: filename=pycuda-2019.1.2-cp36-cp36m-linux_x86_64.whl size=4535339 sha256=9f90ea2ab2ae3be89a7d1ef45065ec3bf9f092b6175b9d3010a527609b014743\n",
            "  Stored in directory: /root/.cache/pip/wheels/a6/60/f0/b1c430c73d281ac3e46070480db50f7907364eb6f6d3188396\n",
            "  Building wheel for pytools (setup.py) ... \u001b[?25l\u001b[?25hdone\n",
            "  Created wheel for pytools: filename=pytools-2019.1.1-py2.py3-none-any.whl size=58424 sha256=e45ff4435930a7d417e25ee5fda2a6e251f3297f30fb0f3a2a5816171dab90ac\n",
            "  Stored in directory: /root/.cache/pip/wheels/83/df/0b/75ac4572aaa93e3eba6a58472635d0fda907f5f4cf884a3a0c\n",
            "  Building wheel for mako (setup.py) ... \u001b[?25l\u001b[?25hdone\n",
            "  Created wheel for mako: filename=Mako-1.1.0-cp36-none-any.whl size=75363 sha256=4168927fb7d58a677b3f83280e0dfc6a340f82594d700628e6abfb19dbd6db60\n",
            "  Stored in directory: /root/.cache/pip/wheels/98/32/7b/a291926643fc1d1e02593e0d9e247c5a866a366b8343b7aa27\n",
            "Successfully built pycuda pytools mako\n",
            "Installing collected packages: appdirs, pytools, mako, pycuda\n",
            "Successfully installed appdirs-1.4.3 mako-1.1.0 pycuda-2019.1.2 pytools-2019.1.1\n",
            "Collecting scikit-cuda\n",
            "\u001b[?25l  Downloading https://files.pythonhosted.org/packages/98/8b/36d178c3b98524fe5b1cc15d075d34e2e6e291c4b0461f6e901f1e0bc736/scikit_cuda-0.5.3-py2.py3-none-any.whl (114kB)\n",
            "\u001b[K     |████████████████████████████████| 122kB 48.6MB/s \n",
            "\u001b[?25hRequirement already satisfied: pycuda>=2016.1 in /usr/local/lib/python3.6/dist-packages (from scikit-cuda) (2019.1.2)\n",
            "Requirement already satisfied: mako>=1.0.1 in /usr/local/lib/python3.6/dist-packages (from scikit-cuda) (1.1.0)\n",
            "Requirement already satisfied: numpy>=1.2.0 in /usr/local/lib/python3.6/dist-packages (from scikit-cuda) (1.17.4)\n",
            "Requirement already satisfied: decorator>=3.2.0 in /usr/local/lib/python3.6/dist-packages (from pycuda>=2016.1->scikit-cuda) (4.4.1)\n",
            "Requirement already satisfied: appdirs>=1.4.0 in /usr/local/lib/python3.6/dist-packages (from pycuda>=2016.1->scikit-cuda) (1.4.3)\n",
            "Requirement already satisfied: pytools>=2011.2 in /usr/local/lib/python3.6/dist-packages (from pycuda>=2016.1->scikit-cuda) (2019.1.1)\n",
            "Requirement already satisfied: MarkupSafe>=0.9.2 in /usr/local/lib/python3.6/dist-packages (from mako>=1.0.1->scikit-cuda) (1.1.1)\n",
            "Requirement already satisfied: six>=1.8.0 in /usr/local/lib/python3.6/dist-packages (from pytools>=2011.2->pycuda>=2016.1->scikit-cuda) (1.12.0)\n",
            "Installing collected packages: scikit-cuda\n",
            "Successfully installed scikit-cuda-0.5.3\n"
          ],
          "name": "stdout"
        }
      ]
    },
    {
      "cell_type": "code",
      "metadata": {
        "id": "nvM5Bqgya_dJ",
        "colab_type": "code",
        "colab": {}
      },
      "source": [
        "import pycuda.gpuarray as gpuarray\n",
        "import pycuda.driver as cuda\n",
        "import pycuda.autoinit\n",
        "import numpy as np\n",
        "import skcuda.linalg\n",
        "import skcuda.integrate\n",
        "import time\n",
        "from scipy.integrate import simps"
      ],
      "execution_count": 0,
      "outputs": []
    },
    {
      "cell_type": "code",
      "metadata": {
        "id": "TfpTuTKobQX-",
        "colab_type": "code",
        "colab": {}
      },
      "source": [
        "# Constantes\n",
        "T_c = 160 # Mev\n",
        "R_c = 1\n",
        "\n",
        "σ = 50*(197**2) # MeV^3\n",
        "#σ = 50 \n",
        "\n",
        "ξ_q = 0.7/197 # Mev\n",
        "#ξ_q = 0.7 \n",
        "\n",
        "ζ_q = 0\n",
        "\n",
        "G = (6.70*(10**(-45)))\n",
        "#G = 3.7835*10**(-123)"
      ],
      "execution_count": 0,
      "outputs": []
    },
    {
      "cell_type": "code",
      "metadata": {
        "id": "ohH_NXjQAhic",
        "colab_type": "code",
        "colab": {}
      },
      "source": [
        "π = np.pi\n",
        "\n",
        "def g_q(T):\n",
        "    return (24.604*T**(0.1713))          # según https://arxiv.org/pdf/astro-ph/0304281.pdf ec. (9)\n",
        "\n",
        "def g_h(T):\n",
        "    return (2.388*T**(2.287))*10**(-4.0) # según https://arxiv.org/pdf/astro-ph/0304281.pdf ec. (8)\n",
        "    \n",
        "def B(T):\n",
        "    return  g_q(T)*(π**2/90)*(1 - g_h(T)/g_q(T))*(T_c**4)\n",
        "\n",
        "# Presiones según Kapusta\n",
        "\n",
        "def Pq(T):\n",
        "    return g_q(T)*(π**2/90)*T**4 - B(T)\n",
        "\n",
        "def Ph(T): \n",
        "    return g_h(T)*(π**2/90)*T**4\n",
        "\n",
        "def P(h, T): \n",
        "    return h*Ph(T) + (1-h)*Pq(T)\n",
        "\n",
        "def ΔP(T): \n",
        "    return Ph(T) - Pq(T)\n",
        "\n",
        "# Energías según Csernai pero con coeficientes del Kapusta\n",
        "\n",
        "def ϵ_q(T):\n",
        "    return g_q(T)*(π**2/30)*T**4 + B(T)\n",
        "\n",
        "def ϵ_h(T): \n",
        "    return g_h(T)*(π**2/30)*T**4  \n",
        "\n",
        "def ϵ(h, T):\n",
        "    return h*ϵ_h(T) + (1-h)*ϵ_q(T)\n",
        "\n",
        "# Entalpías\n",
        "\n",
        "def w_q(T): \n",
        "    return g_q(T)*(π**2/90)*T**4 +  g_q(T)*(π**2/30)*T**4\n",
        "\n",
        "def w_h(T): \n",
        "    return g_h(T)*(π**2/90)*T**4 +  g_h(T)*(π**2/30)*T**4\n",
        "\n",
        "def w(h, T):\n",
        "    return h*w_h(T) + (1-h)*w_q(T)\n",
        "\n",
        "def Δw(T):\n",
        "    return w_h(T) - w_q(T)\n",
        "\n",
        "# Velocidad de las burbujas\n",
        "\n",
        "def v(T):\n",
        "    return 3*(1-T/T_c)**(3/2)\n",
        "\n",
        "# Las demás\n",
        "\n",
        "def η_q(T):\n",
        "    return 14.4*T**3\n",
        "\n",
        "def r0(T):\n",
        "    return (2*σ)/(Ph(T) - Pq(T)) # r_{*} en los papers\n",
        "\n",
        "def ΔF0(T):\n",
        "    return (4/3)*π*σ*(r0(T))**2 # ΔF_{*} en los papers\n",
        "\n",
        "def I0(T):\n",
        "    return((16/(3*π))*(σ/(3*T))**(3/2))*((σ*η_q(T)*r0(T))/(ξ_q**4*(Δw(T))**2))\n",
        "\n",
        "def I(T):\n",
        "    return (4/π)*((σ/(3*T))**(3/2))*((σ*r0(T)*(3*ζ_q + 4*η_q(T)))/(3*ξ_q**4*(Δw(T))**2))*np.exp(-ΔF0(T)/T)\n",
        "\n",
        "# Cambio de variable\n",
        "\n",
        "def dt_dR(R, h, T):\n",
        "    return (1/R)*((3/(8*π*G*((h*ϵ_h(T))+((1-h)*ϵ_q(T)))))**(1/2))"
      ],
      "execution_count": 0,
      "outputs": []
    },
    {
      "cell_type": "code",
      "metadata": {
        "id": "NnC0k6x4E_zM",
        "colab_type": "code",
        "colab": {}
      },
      "source": [
        "def V(i, dR, Rs, hs, Ts):  \n",
        "    \n",
        "    \"\"\"\n",
        "    Esta función es para calcular el volumen, ecuación 16.55 del Kapusta.\n",
        "    \"\"\"\n",
        "    \n",
        "    global integral_V \n",
        "    k = len(Rs)\n",
        "\n",
        "    if i == 1:\n",
        "        for j in range(i,k):\n",
        "            integral_V = integral_V + 3*dR*((1-Ts[j]/T_c)**(3/2))*dt_dR(Rs[j], hs[j], Ts[j])\n",
        "            \n",
        "        volume = 4/3*π*(r0(Ts[i]) + integral_V)**3\n",
        "        return volume\n",
        "    else:\n",
        "        integral_V = integral_V - dR*3*((1-Ts[i]/T_c)**(3/2))*dt_dR(Rs[i], hs[i], Ts[i])\n",
        "        volume = 4/3*π*(r0(Ts[i]) + integral_V)**3 \n",
        "        return volume"
      ],
      "execution_count": 0,
      "outputs": []
    },
    {
      "cell_type": "code",
      "metadata": {
        "id": "4aFquBSIKiB5",
        "colab_type": "code",
        "colab": {}
      },
      "source": [
        "def riemann_h(dR, Rs, hs, Ts):\n",
        "\n",
        "  global integral_V\n",
        "  integral_V = 0\n",
        "\n",
        "  k = len(Rs)\n",
        "\n",
        "  ys = np.array([I(Ts[i])*(1-hs[i])*hs[i]*V(i, dR, Rs, hs, Ts)*dt_dR(Rs[i], hs[i], Ts[i]) for i in range(len(Rs))], dtype=np.float32)\n",
        "\n",
        "  # ys_gpu = gpuarray.to_gpu(ys) \n",
        "\n",
        "  # # Empezamos la parte en paralelo\n",
        "  # skcuda.integrate.init()\n",
        "\n",
        "  # h = skcuda.integrate.trapz(ys_gpu, dx=dR)\n",
        "\n",
        "  h = simps(ys, Rs)\n",
        "\n",
        "  return h\n",
        "\n",
        "  "
      ],
      "execution_count": 0,
      "outputs": []
    },
    {
      "cell_type": "code",
      "metadata": {
        "id": "0-slniUGNKVt",
        "colab_type": "code",
        "colab": {
          "base_uri": "https://localhost:8080/",
          "height": 35
        },
        "outputId": "d83222d5-9af5-424b-b7c0-f7aaaf12b990"
      },
      "source": [
        "Rs = np.array([1, 1.00001, 1.00002])\n",
        "hs = np.array([0,0,0])\n",
        "Ts = np.array([160, 159.9984, 159.9968000319997])\n",
        "\n",
        "dR = 0.00001\n",
        "riemann_h(dR, Rs, hs, Ts)"
      ],
      "execution_count": 132,
      "outputs": [
        {
          "output_type": "execute_result",
          "data": {
            "text/plain": [
              "0.0"
            ]
          },
          "metadata": {
            "tags": []
          },
          "execution_count": 132
        }
      ]
    },
    {
      "cell_type": "code",
      "metadata": {
        "id": "l6bWuKhbesfL",
        "colab_type": "code",
        "colab": {}
      },
      "source": [
        "def fT(R, h, T, dh_dR):\n",
        "  return -(dh_dR*((g_h(T)*π**2/30)*T**4 - (g_q(T)*π**2/30)*T**4 - B(T)) + (3/R)*( (2*g_h(T)*π**2/45)*h*T**4 + (1-h)*((2*g_q(T)*π**2/45)*T**4)) )/((4*g_h(T)*π**2/30)*h*T**3 + (1-h)*(4*g_q(T)*π**2/30)*T**3)\n"
      ],
      "execution_count": 0,
      "outputs": []
    },
    {
      "cell_type": "code",
      "metadata": {
        "id": "2WzP8zH3Oq4p",
        "colab_type": "code",
        "colab": {}
      },
      "source": [
        "def integro_diferencial(R_f, dR):\n",
        "\n",
        "    R = R_c\n",
        "    h = 0.0\n",
        "    T = T_c\n",
        "    \n",
        "    Rs = ([R])\n",
        "    hs = ([h])\n",
        "    Ts = ([T])\n",
        "    \n",
        "    i = 1\n",
        "    \n",
        "    #global integral_V\n",
        "\n",
        "    #t1 = time.time()\n",
        "    \n",
        "    while R <= R_f:\n",
        "              \n",
        "        if i == 1:\n",
        "            dh_dR = 0\n",
        "        else: \n",
        "            dh_dR = (hs[-1]-hs[-2])/dR \n",
        "                              \n",
        "        T = T + dR*fT(R,h,T,dh_dR)\n",
        "        R = R + dR\n",
        "        h = riemann_h(dR, Rs, hs, Ts)\n",
        "        #print(i)\n",
        "        \n",
        "        if h > 1:\n",
        "           print(\"R_final =$(R)\")\n",
        "           break\n",
        "        \n",
        "        Rs = np.append(Rs, R)\n",
        "        hs = np.append(hs, h)\n",
        "        Ts = np.append(Ts, T)\n",
        "        \n",
        "        i = i+1\n",
        "        \n",
        "        # if i % 10000 == 0\n",
        "        #     writedlm(\"resultados.txt\", [Rs hs Ts])\n",
        "        # end\n",
        "        \n",
        "        # if i % 5000 == 0\n",
        "        #     t2 = time()\n",
        "        #     hours = (t2-t1)/3600\n",
        "        #     print(\"i=$(i), R=$(R), h=$(h)\")\n",
        "        #     print(\"Van $(hours) horas \\n\")\n",
        "                               \n",
        "    return Rs, hs, Ts"
      ],
      "execution_count": 0,
      "outputs": []
    },
    {
      "cell_type": "code",
      "metadata": {
        "id": "YFjIEvUCf5ZE",
        "colab_type": "code",
        "colab": {
          "base_uri": "https://localhost:8080/",
          "height": 35
        },
        "outputId": "40b9da55-85ae-4499-9daf-4b69a4e9e45b"
      },
      "source": [
        "R_f = 1.02\n",
        "dR = 0.0001\n",
        "\n",
        "t = time.time()\n",
        "\n",
        "results = integro_diferencial(R_f, dR)\n",
        "\n",
        "time.time() - t\n"
      ],
      "execution_count": 140,
      "outputs": [
        {
          "output_type": "execute_result",
          "data": {
            "text/plain": [
              "1.1401503086090088"
            ]
          },
          "metadata": {
            "tags": []
          },
          "execution_count": 140
        }
      ]
    },
    {
      "cell_type": "code",
      "metadata": {
        "id": "IfmBcYs5gPFM",
        "colab_type": "code",
        "colab": {}
      },
      "source": [
        "Rs, hs, Ts = results"
      ],
      "execution_count": 0,
      "outputs": []
    },
    {
      "cell_type": "code",
      "metadata": {
        "id": "hvTgLwiJnTfM",
        "colab_type": "code",
        "colab": {}
      },
      "source": [
        "import matplotlib.pyplot as plt"
      ],
      "execution_count": 0,
      "outputs": []
    },
    {
      "cell_type": "code",
      "metadata": {
        "id": "TNwb2E6roCQe",
        "colab_type": "code",
        "colab": {
          "base_uri": "https://localhost:8080/",
          "height": 283
        },
        "outputId": "e489ff3a-6284-49bf-a5a4-e618684170e3"
      },
      "source": [
        "plt.plot(Rs, Ts)"
      ],
      "execution_count": 143,
      "outputs": [
        {
          "output_type": "execute_result",
          "data": {
            "text/plain": [
              "[<matplotlib.lines.Line2D at 0x7fd6d51bfcc0>]"
            ]
          },
          "metadata": {
            "tags": []
          },
          "execution_count": 143
        },
        {
          "output_type": "display_data",
          "data": {
            "image/png": "[encoded data removed]",
            "text/plain": [
              "<Figure size 432x288 with 1 Axes>"
            ]
          },
          "metadata": {
            "tags": []
          }
        }
      ]
    },
    {
      "cell_type": "code",
      "metadata": {
        "id": "UNMIYud8oIga",
        "colab_type": "code",
        "colab": {}
      },
      "source": [
        ""
      ],
      "execution_count": 0,
      "outputs": []
    }
  ]
}